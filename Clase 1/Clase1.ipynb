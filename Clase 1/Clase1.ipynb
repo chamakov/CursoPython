{
 "cells": [
  {
   "cell_type": "markdown",
   "metadata": {},
   "source": [
    "# **Curso Básico de Python - Clase 1**\n",
    "\n",
    "Curso básico de programación con Python para la comunidad de desarrolladores y entusiastas de Grupo Flecha Amarilla\n",
    "\n",
    "Código desarrollado y documentado por **Juan Ortega**, Analista Senior de la gerencia de desarrllo central."
   ]
  },
  {
   "cell_type": "markdown",
   "metadata": {},
   "source": [
    "#### **Contenidos**\n",
    "\n",
    "1. ¿Que es y porque Python?\n",
    "2. Casos de uso de Python\n",
    "3. ¡Hola Mundo!\n",
    "4. Variables, tipos de datos y casteos\n",
    "5. Operadores básicos\n",
    "6. Condicionales Básicos\n",
    "7. Resumen Clase 1"
   ]
  },
  {
   "cell_type": "markdown",
   "metadata": {},
   "source": [
    "#### **¿Que es y porque Python?**\n",
    "\n",
    "<center>\n",
    "<img src=\"../RepoImagenes/Python-Symbol.png\" width=\"50%\">\n",
    "</center>\n",
    "\n",
    "Python es un lenguaje de programación de alto nivel, interpretado, de uso general, de tipado dinámico, multiusos y con un colector de basura.\n",
    "Está diseñado bajo una filosofia que enfatiza la facil lectura y comprensión del código con el uso de una identación significativa.\n",
    "Adicionalmente a las características antes mencionada, es un proyecto de código abierto, lo cual lo hace facilmente usable y distribuible, inclusive para uso comercial.\n",
    "\n",
    "Debido a sus caracteristicas, Python es utilizado en grandes compañias como **Intel**, **IBM**, **Pixar**, **Netflix**, **Facebook**, **Spotify** entre algunas otras compañias del F100 global.\n",
    "En el caso particular de **Google**, Python es uno de los 4 lenguajes de programación principales dentro de la compañia, siendo **YouTube** el proyecto que más utiliza módulos escritos en Python.\n",
    "\n",
    "En la siguiente sección veremos algunos de los casos más notorios en los cuales Python es utilizado."
   ]
  },
  {
   "cell_type": "markdown",
   "metadata": {},
   "source": [
    "---"
   ]
  },
  {
   "cell_type": "markdown",
   "metadata": {},
   "source": [
    "### **Casos de Uso de Python**\n",
    "Python posee una gran variedad de casos de uso y aplicaciones, dentro de las cuales mencionaremos las más relevantes:\n",
    "\n",
    "##### **1. Inteligencia Artificial y Aprendizaje Automático**\n",
    "\n",
    "<center>\n",
    "<img src=\"../RepoImagenes/ai.jpg\" width='50%'>\n",
    "</center>\n",
    "\n",
    "Debido a que Python es un lenguaje de programación estable, flexible y simple, va perfecto para proyectos de IA y de ML, de hecho, Python es uno de los lenguajes favoritos entre lod cientificos de datos, por lo que existen muchas librerias y paquetes disponibles para AI y ML (Si no entiendes que es un paquete, no te preocupes, lo veremos con detenimiento más tarde).\n",
    "\n",
    "Algunos paquetes y librerias populares para este rubro son: \n",
    "- TensorFlow\n",
    "- Keras\n",
    "- Scikit\n",
    "- Pytorch\n",
    "- Theano\n",
    "- OpenCV\n",
    "\n",
    "\n",
    "\n",
    "##### **2. Análisis de datos**\n",
    "\n",
    "<center>\n",
    "<img src=\"../RepoImagenes/DataAnalysis.jpg\" width='50%'>\n",
    "</center>\n",
    "\n",
    "Ademas de ML y AI, el análisis de datos es otro campo que se encuentra desarrollandose rapidamente, y es uno más que hace uso de Python.\n",
    "Al mismo tiempo que estamos generando mayor cantidad de información que nunca (Debido a que practicamente todo lo que utilizamos actualmente genera datos), tambien existe la necesidad para todos aquellos que quieran reculectar manipular y organizar la información de una manera rápida y eficiente, con la finalidad de poder brindarle una interpretación a la misma.\n",
    "\n",
    "Python hace mucho sentido para el campo de la ciencia de datos y la analítica de datos, esto ya que el lenguaje es facil de aprender, flexible y muy bien soportado, esto significa que es relativamente rapido y facil de usar para aplicaciones de análisis de datos, ya que cuando se está trabajando con cantidades grandes de información, es muy útil manipular la información y realizar algunas operaciones repetitivas de manera automatizada.\n",
    "\n",
    "Algunas librerias populares en este rubro son:\n",
    "- TensorFlow (Si, tambien sirve para Análisis de datos)\n",
    "- Pandas\n",
    "- NumPy\n",
    "- SciPy\n",
    "- Keras\n",
    "- Scikit\n",
    "\n",
    "##### **3. Visualización de datos**\n",
    "\n",
    "<center>\n",
    "<img src=\"../RepoImagenes/DataVisualization.jpeg\" width='50%'>\n",
    "</center>\n",
    "\n",
    "La visualización de datos es otra área de interes popular y en crecimiento en la cual se puede utilizar Python, ya que cuenta con una gran flexibilidad, y considerando el hecho de que es OpenSource, Python ofrece una gran variedad de librerias de representaciones gráficas con un gran número de características disponibles.\n",
    "\n",
    "Sin importar si estamos buscando crear una representación gráfica simple o una gráfica más interactiva, es posible encontrar una libreria que pueda cumplir nuestras necesidades.\n",
    "\n",
    "Algunas librerias populares en este aspecto son las siguientes:\n",
    "- Pandas Visualization\n",
    "- Plotly\n",
    "- Matplotlib\n",
    "- Seaborn\n",
    "- Bokeg\n",
    "- Geoplotlib\n",
    "\n",
    "\n",
    "##### **4. Desarrollo Web**\n",
    "\n",
    "<center>\n",
    "<img src=\"../RepoImagenes/WebDev.png\" width='50%'>\n",
    "</center>\n",
    "\n",
    "Python es una gran opción para realizar desarrollo web, esto principalmente debido a que existen muchos frameworks de desarrollo web para poder elegir, cabe señalar que parte de estos marcos de trabajo han sido utilizados para hacer sitios y servicios como lo son: **Spotify**, **Reddit** y **Mozilla**.\n",
    "\n",
    "Gracias a la extensa variedad de librerias y módulos que vienen incluidos en los Frameworks de Python, funciones como lo son: acceso a base de datos, administración de contenido y autorización de datos, son facilmente accesibles e implementables. Dada esta versatilidad, no es sorpresa que Python sea utilizado tanto dentro del desarrollo web.\n",
    "\n",
    "Algunos Frameworks populares para el desarrollo web son los siguientes:\n",
    "- Django\n",
    "- Pyramid\n",
    "- Flask\n",
    "- FastAPI\n",
    "\n",
    "##### **5. Desarrollo de Videojuegos**\n",
    "\n",
    "<center>\n",
    "<img src=\"../RepoImagenes/GameDev.jpg\" width='50%'>\n",
    "</center>\n",
    "\n",
    "Muy lejos del estandar de la industria para desarrollo de juegos, Python cuenta con sus propios usos dentro de la industria. Es posible crear juegos simples utilizando el lenguaje de programación, lo cual significa que puede ser una herramienta de utilidad para el desarrollo rapido de un prototipo. De igual manera, algunas funciones (Como lo puede ser la creación de arboles de dialogos), es posible realizarlas dentro de Python.\n",
    "\n",
    "Algunas de las herramientas más populares para desarrollo de videojuegos en Python son las siguientes:\n",
    "- Pygame\n",
    "- PyKyra\n",
    "- Pyglet\n",
    "- PyOpenGL\n",
    "\n",
    "\n",
    "##### **6. Automatización de tareas comunes**\n",
    "\n",
    "<center>\n",
    "<img src=\"../RepoImagenes/automation.png\" width='50%'>\n",
    "</center>\n",
    "\n",
    "En el día a día, nos encontramos con operaciones que pueden llegar a ser repetitivas, o inclusive ya esperadas dentro de la planeación de actividades, como lo puede ser:\n",
    "\n",
    "- Generar reportes de manera ciclica\n",
    "- Enviar correos con estos reportes\n",
    "- Generar scripts de base de datos en base a detalles de archivos compartidos\n",
    "- Subir de manera repetitiva repositorios al repositorio central de GIT\n",
    "\n",
    "Para este tipo de operaciones, Python es una gran herramienta que nos ayuda a minimizar los esfuerzos para estas tareas, nos ayuda a eficientar su ejecución y sobre todo a disminiuir cualquier tipo de error en su ejecución.\n",
    "\n"
   ]
  },
  {
   "cell_type": "markdown",
   "metadata": {},
   "source": [
    "---"
   ]
  },
  {
   "cell_type": "markdown",
   "metadata": {},
   "source": [
    "### **¡Hola Mundo!**\n",
    "\n",
    "Hemos llegado al clásico punto de inicio en cualquier lenguaje de programación, el ¡Hola Mundo! es nuestro punto de entrada común, pero en esta ocasión lo realizaremos de una manera un poco diferente.\n",
    "\n",
    "Este material que estas leyendo, se está ejecutando dentro de una libreta de Jupyter, esta aproximación nos permitirá ejecutar código Python directamente en el navegador, sin necesidad de instalar nada (Por el momento), por lo cual iniciaremos con un Hola Mundo muy simple el cual podremos ver a continuación:\n",
    "\n",
    "```python\n",
    "print('¡Hola Mundo!')\n",
    "```\n",
    "\n",
    "¿Que es lo que tenemos en el fragmento de código de arriba?, tenemos una función incluida dentro de Python, llamada `print()`, la cual (Como su nombre lo dice) imprime a consola la cadena de caracteres que indiquemos.\n",
    "\n",
    "Esta es la función más básica y simple que tenemos en Python, y es el mejor punto de inicio para nuestra travesía aprendiendo este lenguaje, ¿Porque no pruebas a ejecutarlo en el recuadro de abajo?, solo es necesario seleccionar el botón \"Play\" y verás la mágia.\n",
    "\n",
    "Si quieres un reto mayor, trata de imprimir una serie de lineas una tras otra, o intenta imprimir textos concatenados sin usar el operador `+`.\n",
    "\n",
    "Tip: Separa las cadenas con comas dentro de print y observa que pasa ;)."
   ]
  },
  {
   "cell_type": "code",
   "execution_count": null,
   "metadata": {},
   "outputs": [],
   "source": [
    "# Aqui abajo imprime ¡Hola Mundo! o el texto de tu preferencia"
   ]
  },
  {
   "cell_type": "markdown",
   "metadata": {},
   "source": [
    "Como pudimos ver `print()` nos permite imprimir valores a la consola, lo cual se considera como una salida pero ¿Que pasa si necesitamos ingresar nosotros algún tipo de información mediante teclado hacia el programa?.\n",
    "La respuesta esta en otra función incluida en Python la cual es `input()` (Un poco autodescriptiva ¿verdad?), esta función nos solicitará que le indiquemos cual es el mensaje que mostraremos al usuario en pantalla al momento de solicitar que ingrese la información (Tal como si usaramos `print()`), pero quedará a la escucha de la respuesta que se coloque, siendo posible usarla de manera posterior para la ejecución del programa.\n",
    "Ejecuta el ejemplo, sigue las instrucciones y observa lo que sucede.\n",
    "\n",
    "#### **Ejemplo:**"
   ]
  },
  {
   "cell_type": "code",
   "execution_count": null,
   "metadata": {},
   "outputs": [],
   "source": [
    "#No te preocupes si no entiendes el código, lo revisaremos más adelante\n",
    "nombre = input(\"Hola!, ingresa tu nombre: \")\n",
    "edad = input(\"Ingresa tu edad: \")\n",
    "print(\"Hola \" + nombre, \"tienes\", edad, \"años\")\n"
   ]
  },
  {
   "cell_type": "markdown",
   "metadata": {},
   "source": [
    "Como pudimos observar, `input()` nos muestra el mensaje que le pasamos como parámetro, y se queda a la espera a que le indiquemos la información solicitada, esta información se almacena en la variable nombre (Veremos las variables a continuación, asi que no te preocupes) y posteriormente lo imprime junto con la edad que le indique el usuario (Esta tambien utiliza un `input()` para obtener la información).\n",
    "\n",
    "Este es nuestro ¡Hola Mundo!, un poco diferente a otros lenguajes, pero es solamente una breve introducción a 2 de las muchas funciones incluidas que contiene Python que nos ayudará a realizar nuestros programas de manera más fácil."
   ]
  },
  {
   "cell_type": "markdown",
   "metadata": {},
   "source": [
    "---"
   ]
  },
  {
   "cell_type": "markdown",
   "metadata": {},
   "source": [
    "### **Variables, tipos de datos y casteos**\n",
    "\n"
   ]
  },
  {
   "cell_type": "markdown",
   "metadata": {},
   "source": [
    "Python, como lo mencionamos anteriormente, es un lenguaje de tipado dinámico, es decir que al momento de ejecutarse el intérprete, este determina de que tipo es cada variable que forma parte del programa, pero ¿Que es una variable?.\n",
    "\n",
    "Una variable la podemos abstraer como un contenedor, este contenedor es capaz de guardar información de cualquier tipo (Numeros, textos, fechas, booleanos), en el caso particular de Python, como es un lenguaje de tipado dinámico, no es necesario que se especifique de manera explícita el tipo de dato que requiere nuestro contenedor (Como lo es el caso de algunos otros lenguajes como Java o C#).\n",
    "\n",
    "#### **Ejemplo:**"
   ]
  },
  {
   "cell_type": "code",
   "execution_count": null,
   "metadata": {},
   "outputs": [],
   "source": [
    "#Definiremos unas nuevas variables\n",
    "nombre = 'Juan'\n",
    "edad = 30\n",
    "numero_avogadro = 6.022140857e23\n",
    "casado = True\n",
    "\n",
    "#Imprimiremos las variables\n",
    "print(\"Hola \" + nombre, \"tienes\", edad, \"años\")\n",
    "print(\"El numero de avogadro es:\", numero_avogadro)"
   ]
  },
  {
   "cell_type": "code",
   "execution_count": null,
   "metadata": {},
   "outputs": [],
   "source": [
    "# Ejercicio 1:\n",
    "# Crea una variable que contenga tu nombre\n",
    "# Imprime \"Hola, nombre\""
   ]
  },
  {
   "cell_type": "code",
   "execution_count": null,
   "metadata": {},
   "outputs": [],
   "source": [
    "print(type(nombre))\n",
    "print(type(edad))\n",
    "print(type(numero_avogadro))\n",
    "print(type(casado))\n",
    "\n",
    "# Esto es un comentario que no se va a ejecutar"
   ]
  },
  {
   "cell_type": "code",
   "execution_count": null,
   "metadata": {},
   "outputs": [],
   "source": [
    "# Aqui vamos a castear de un tipo de dato a otro\n",
    "\n",
    "# Iniciamos con una variable de tipo int\n",
    "edadUsuario = 30\n",
    "print(type(edadUsuario))\n",
    "\n",
    "# Casteamos a tipo string\n",
    "edadUsuario = str(edadUsuario)\n",
    "print(type(edadUsuario))\n",
    "\n",
    "# Regresamos a tipo int y despues casteamos a tipo float\n",
    "edadUsuario = int(edadUsuario)\n",
    "edadUsuario = float(edadUsuario)\n",
    "print(type(edadUsuario))"
   ]
  },
  {
   "cell_type": "code",
   "execution_count": null,
   "metadata": {},
   "outputs": [],
   "source": [
    "# Ejercicio 2:\n",
    "# Crea una variable que contenga tu edad\n",
    "# Casteala al tipo de tu preferencia e imprimelo en consola\n",
    "# Imprime el tipo de dato de la variable\n",
    "# Casteala a otro tipo de dato y imprime el tipo de dato de la variable"
   ]
  },
  {
   "cell_type": "markdown",
   "metadata": {},
   "source": [
    "---"
   ]
  },
  {
   "cell_type": "markdown",
   "metadata": {},
   "source": [
    "### **Operadores básicos**\n",
    "\n",
    "Python, como muchos otros lenguajes, soporta operadores dentro de su sintáxis, estos nos permitirán realizar diversas acciones dependiendo de la naturaleza de cada uno.\n",
    "\n",
    "De manera concentrada tenemos 3 tipos de operadores: \n",
    "- Matemáticos\n",
    "- De comparación\n",
    "- Lógicos\n",
    "\n",
    "#### **Operadores Matemáticos**\n",
    "\n",
    "Como su nombre lo indica, estos operan a nivel matemático-aritmético, su afectación va sobre los valores de las variables, algunos ejemplos son: (`+`, `-`, `*`, `/`, `//`, `%`, `**`)\n",
    "\n",
    "#### **Operadores De Comparación**\n",
    "\n",
    "Estos operan a nivel matemático de comparación sobre los valores de las variables, algunos ejemplos son: (`<`, `>`, `<=`, `>=`, `==`, `!=`).\n",
    "\n",
    "#### **Operadores Lógicos**\n",
    "\n",
    "Estos operan a nivel matemático lógico sobre los valores de las variables, algunos ejemplos son: (`and`, `or`, `not`).\n",
    "\n",
    "#### **Ejemplo:**"
   ]
  },
  {
   "cell_type": "code",
   "execution_count": null,
   "metadata": {},
   "outputs": [],
   "source": [
    "# Ejemplo:\n",
    "# Uso de operadores matemáticos\n",
    "\n",
    "edad = 50\n",
    "print(edad + 50) #Suma\n",
    "print(edad - 50) #Resta\n",
    "print(edad * 50) #Multiplicación\n",
    "print(edad / 50) #División\n",
    "print(edad % 50) #Módulo\n",
    "print(edad ** 2) #Exponente\n",
    "print(edad // 50) #División entera\n",
    "\n",
    "# Uso de operadores de comparación\n",
    "\n",
    "print(edad == 50) #Igualdad\n",
    "print(edad != 50) #Desigualdad\n",
    "print(edad > 50) #Mayor que\n",
    "print(edad < 50) #Menor que\n",
    "print(edad >= 40) #Mayor o igual que\n",
    "print(edad <= 100) #Menor o igual que\n",
    "\n",
    "# Uso de operadores lógicos\n",
    "print(edad == 50 and edad < 100) #And\n",
    "print(edad == 50 or edad < 100) #Or\n",
    "print(not edad == 50) #Not\n"
   ]
  },
  {
   "cell_type": "code",
   "execution_count": null,
   "metadata": {},
   "outputs": [],
   "source": [
    "# Ejercicio 3:\n",
    "# Crea una variable que contenga el importe total de una compra\n",
    "# Crea una variable que contenga el descuento que se le aplica\n",
    "# Calcula el importe total con el descuento aplicado utilizando los operadores matemáticos"
   ]
  },
  {
   "cell_type": "code",
   "execution_count": null,
   "metadata": {},
   "outputs": [],
   "source": [
    "# Ejercicio 4:\n",
    "# Crea una variable que contenga el importe total de una compra\n",
    "# Crea una variable que contenga el número de cuotas que se le aplica\n",
    "# Calcula el importe total a pagar en cada cuota utilizando los operadores matemáticos"
   ]
  },
  {
   "cell_type": "markdown",
   "metadata": {},
   "source": [
    "---"
   ]
  },
  {
   "cell_type": "markdown",
   "metadata": {},
   "source": [
    "### **Condicionales Básicos**\n",
    "\n",
    "Los condicionales son una estructura de control que utilizaremos de manera principal para decidir si se ejecuta cierta parte del código en base a si se cumple o no una o más condiciones. Escencialmente nos van a ayudar a tomar decisiones sobre el flujo de nuestros programas.\n",
    "\n",
    "La sintáxis utilizada es la siguiente:\n",
    "\n",
    "```python\n",
    "if condicion:\n",
    "    # Codigo 1\n",
    "elif otra_condicion:\n",
    "\t# Codigo 2\n",
    "else:\n",
    "\t# Codigo 3\n",
    "```\n",
    "\n",
    "Dentro de esta estructura, podemos visualizar que es posible encadenar validaciones con `elif` de tal manera que podamos contar con un arbol de desiciones más completo (Cabe señalar que en Python no existe el operador `switch`, pero eso lo veremos más adelante)\n",
    "\n",
    "\n",
    "#### **Ejemplo**"
   ]
  },
  {
   "cell_type": "code",
   "execution_count": null,
   "metadata": {},
   "outputs": [],
   "source": [
    "edad = int(input(\"Ingresa tu edad: \")) #Ingresamos la edad y la castemos en un solo paso\n",
    "\n",
    "if edad >= 18: #Aqui puedes tener 1000 años de edad y seguiras siendo mayor de edad\n",
    "    print(\"Eres mayor de edad\")\n",
    "else:\n",
    "    print(\"Eres menor de edad\")"
   ]
  },
  {
   "cell_type": "code",
   "execution_count": null,
   "metadata": {},
   "outputs": [],
   "source": [
    "if edad < 0: #Si la edad es negativa, no es un numero\n",
    "    print(\"Acaso estas en la panza de tu madre aún?\")\n",
    "elif edad < 18:\n",
    "    print(\"Eres menor de edad\")\n",
    "elif edad >= 18 and edad <= 65: #Aqui puedes tener 1000 años de edad y seguiras siendo mayor de edad\n",
    "    print(\"Eres un adulto\")\n",
    "elif edad >= 65:\n",
    "    print(\"Eres un adulto mayor\")"
   ]
  },
  {
   "cell_type": "code",
   "execution_count": null,
   "metadata": {},
   "outputs": [],
   "source": [
    "edad = 18\n",
    "ine = False\n",
    "\n",
    "if edad < 18:\n",
    "    print(\"Aun no puedes entrar porque eres menor de edad\")\n",
    "elif edad >= 18 and not ine:\n",
    "    print(\"Aun no puedes entrar porque no tienes INE\")\n",
    "elif edad >= 18 and ine:\n",
    "    print(\"Puedes entrar\")"
   ]
  },
  {
   "cell_type": "code",
   "execution_count": null,
   "metadata": {},
   "outputs": [],
   "source": [
    "# Ejercicio 5:\n",
    "# Crea una estructura de control que cumpla con el siguiente escenario:\n",
    "# Juan tiene un automovil Azul, Pedro un Negro y Jose un Rojo, \n",
    "# son las unicas personas con automovil en su condominio\n",
    "# Genera una estructura de decisión que imprima en consola de quien es el auto en base a su color\n",
    "# Considera que en caso de ver otro automovil, no sabemos de quien es, \n",
    "# así que hay que imprimirlo en consola de igual manera"
   ]
  },
  {
   "cell_type": "markdown",
   "metadata": {},
   "source": [
    "#### **Otro uso del IF**\n",
    "\n",
    "Además de la aproximación que acabamos de ver, hay otro uso del If de una manera que se denomina *Inline*, es decir, en una sola línea podemos utilizarlo, por ejemplo:\n",
    "\n",
    "```python\n",
    "entra_al_bar = True if edad >= 15 and ine else False\n",
    "```\n",
    "\n",
    "En este ejemplo en 1 sola linea le podremos asignar a la variable *entra_al_bar* el valor necesario de la condicional indicada.\n",
    "\n",
    "#### **Ejemplo**"
   ]
  },
  {
   "cell_type": "code",
   "execution_count": null,
   "metadata": {},
   "outputs": [],
   "source": [
    "edad = 18\n",
    "ine = False\n",
    "entra_al_bar = True if edad >= 18 and ine else False\n",
    "print(entra_al_bar)\n",
    "\n",
    "color = 'Azul'\n",
    "usuario = 'Juan' if color == 'Amarillo' else 'No se de quien es eso'\n",
    "print(usuario)"
   ]
  },
  {
   "cell_type": "markdown",
   "metadata": {},
   "source": [
    "---"
   ]
  },
  {
   "cell_type": "markdown",
   "metadata": {},
   "source": [
    "## **Resumen de la primera clase**\n",
    "\n",
    "En esta primer clase pudimos ver un poco de teoria y aplicaciones de Python en el mundo real, tuvimos nuestro primer acercamiento al lenguaje, utilizando Jupyter Notebook y Google Colab.\n",
    "De igual manera pudimos ver: funciones básicas del lenguaje, operadores matemáticos, lógicos y de comparación, asi como el primer acercamiento a la estructura de control más básica como lo es el `if`.\n",
    "\n",
    "Para reforzar el aprendizaje realizaremos un ejercicio que está descrito en la siguiente librea de Jupyter.\n",
    "\n",
    "### **¡Nos vemos en la clase 2!**\n",
    "\n",
    "<center>\n",
    "<img src=\"../RepoImagenes/Continuara.jpg\" width=\"50%\">\n",
    "</center>"
   ]
  }
 ],
 "metadata": {
  "kernelspec": {
   "display_name": "Python 3.8.12 ('datitos')",
   "language": "python",
   "name": "python3"
  },
  "language_info": {
   "codemirror_mode": {
    "name": "ipython",
    "version": 3
   },
   "file_extension": ".py",
   "mimetype": "text/x-python",
   "name": "python",
   "nbconvert_exporter": "python",
   "pygments_lexer": "ipython3",
   "version": "3.8.12"
  },
  "orig_nbformat": 4,
  "vscode": {
   "interpreter": {
    "hash": "3336b29842d6b3e9e1a8979e20e8d94249e58342c6020854ac045ee4842708ca"
   }
  }
 },
 "nbformat": 4,
 "nbformat_minor": 2
}
