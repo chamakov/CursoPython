{
 "cells": [
  {
   "cell_type": "markdown",
   "metadata": {},
   "source": [
    "# **Ejercicios Clase 1**\n",
    "\n",
    "Una vez que vimos los conceptos básicos de Python, reforzaremos el aprendizaje haciendo un pequeño ejercicio, para esto sigue las instrucciones a continuación:\n",
    "\n",
    "\n",
    "### **Ejercicio 1**\n",
    "\n",
    "Dado un número entero *n* realiza las siguientes acciones condicionales:\n",
    "- Si *n* es par, imprime *Raro*\n",
    "- Si *n* es inpar, y es mayor igual que 2 y menor que 6, imprimir *No es Raro*\n",
    "- Si *n* es inpar, y es mayor igual que 6 y menor igual que 20, imprimir *Raro*\n",
    "- Si *n* es inpar i es mayor que 20, imprime *No es raro*"
   ]
  },
  {
   "cell_type": "code",
   "execution_count": null,
   "metadata": {},
   "outputs": [],
   "source": [
    "#Pon aqui la solución"
   ]
  },
  {
   "cell_type": "markdown",
   "metadata": {},
   "source": [
    "### **Ejercicio 2**\n",
    "\n",
    "En el código proporcionado, se realiza la lectura de 2 enteros *a* y *b*.\n",
    "Agrega la lógica necesaria para imprimir 2 lineas:\n",
    "- La primera línea debera de contener el resultado de la división entera de los dos números\n",
    "- La segunda línea deberá de contener el resultado de la división con punto flotande de los dos números"
   ]
  },
  {
   "cell_type": "code",
   "execution_count": null,
   "metadata": {},
   "outputs": [],
   "source": [
    "a = int(input(\"Ingrese un número (a): \"))\n",
    "b = int(input(\"Ingrese un número (b): \"))\n",
    "\n",
    "#Pon aquí la solución"
   ]
  }
 ],
 "metadata": {
  "kernelspec": {
   "display_name": "Python 3.7.5 64-bit",
   "language": "python",
   "name": "python3"
  },
  "language_info": {
   "name": "python",
   "version": "3.7.5"
  },
  "orig_nbformat": 4,
  "vscode": {
   "interpreter": {
    "hash": "0a54084e6b208ee8d1ce3989ffc20924477a5f55f5a43e22e699a6741623861e"
   }
  }
 },
 "nbformat": 4,
 "nbformat_minor": 2
}
